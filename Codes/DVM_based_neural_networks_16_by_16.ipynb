{
  "cells": [
    {
      "cell_type": "code",
      "execution_count": 24,
      "metadata": {
        "id": "iI4OjusYFdYy"
      },
      "outputs": [],
      "source": [
        "import numpy as np\n",
        "import pandas as pd\n",
        "#import tensorflow as tf\n",
        "from matplotlib import pyplot as plt\n",
        "#import seaborn as sns\n",
        "\n",
        "# The following lines adjust the granularity of reporting.\n",
        "pd.options.display.max_rows = 10\n",
        "pd.options.display.float_format = \"{:.1f}\".format"
      ]
    },
    {
      "cell_type": "markdown",
      "metadata": {
        "id": "N8aqvr8YAbRb"
      },
      "source": [
        "16 by 16 matrix"
      ]
    },
    {
      "cell_type": "code",
      "execution_count": 25,
      "metadata": {},
      "outputs": [],
      "source": [
        "N = 32"
      ]
    },
    {
      "cell_type": "code",
      "execution_count": 26,
      "metadata": {},
      "outputs": [],
      "source": [
        "data_df = pd.read_csv(\"data_27GHz_32_N.csv\")\n",
        "input_signals = data_df.iloc[:, :2*N]\n",
        "output_signals = data_df.iloc[:, 2*N:]"
      ]
    },
    {
      "cell_type": "code",
      "execution_count": 27,
      "metadata": {},
      "outputs": [
        {
          "data": {
            "text/plain": [
              "(3000, 64)"
            ]
          },
          "execution_count": 27,
          "metadata": {},
          "output_type": "execute_result"
        }
      ],
      "source": [
        "output_signals.shape"
      ]
    },
    {
      "cell_type": "code",
      "execution_count": 28,
      "metadata": {},
      "outputs": [],
      "source": [
        "import torch\n",
        "import torch.nn as nn\n",
        "import torch.optim as optim\n",
        "from torch.utils.data import DataLoader, Dataset"
      ]
    },
    {
      "cell_type": "code",
      "execution_count": 29,
      "metadata": {},
      "outputs": [],
      "source": [
        "# Custom Layer for Diagonal Matrix\n",
        "class Layer1(nn.Module):\n",
        "    def __init__(self, input_size, output_size):\n",
        "        super(Layer1, self).__init__()\n",
        "        self.units = output_size\n",
        "        self.use_bias = True\n",
        "        #assert input_size == output_size, \"Diagonal layers must have input_size == output_size\"\n",
        "        self.weights_D = nn.Parameter(torch.ones(input_size))  # Only store the diagonal elements\n",
        "        # Initialize trainable weights p=1\n",
        "        self.F1_1 = nn.Parameter(torch.empty(2, 2))\n",
        "        self.F1_2 = nn.Parameter(torch.empty(2, 2))\n",
        "        self.d_dash1 = nn.Parameter(torch.empty(126))\n",
        "\n",
        "        self.weights_D_2 = nn.Parameter(torch.ones(2*input_size))  # Only store the diagonal elements\n",
        "\n",
        "        if self.use_bias:\n",
        "            self.bias = nn.Parameter(torch.empty(self.units))\n",
        "\n",
        "        # Initialize weights p=1\n",
        "        nn.init.xavier_normal_(self.F1_1)\n",
        "        nn.init.xavier_normal_(self.F1_2)\n",
        "        nn.init.normal_(self.d_dash1, mean=0.0, std=0.01) \n",
        "        \n",
        "        if self.use_bias:\n",
        "            nn.init.normal_(self.bias, mean=0.0, std=0.01)\n",
        "\n",
        "    def forward(self, x):\n",
        "        #Diagonal\n",
        "        output =  x * self.weights_D  # Element-wise multiplication along the diagonal\n",
        "        \n",
        "        # J\n",
        "        output = torch.concat((output, torch.zeros(x.shape[0], x.shape[1])), dim=1)\n",
        "        \n",
        "        def calculateF(out, d_dash, F1, F2):\n",
        "            # Perform element-wise multiplications\n",
        "            cal1 = out[:, :out.shape[1] // 2] * d_dash[:out.shape[1] // 2]\n",
        "            cal2 = out[:, out.shape[1] // 2:] * d_dash[:out.shape[1] // 2]\n",
        "\n",
        "            # Concatenate intermediate results\n",
        "            out = torch.cat([\n",
        "                out[:, :out.shape[1] // 2] + out[:, out.shape[1] // 2:],\n",
        "                cal1 - cal2\n",
        "            ], dim=1)\n",
        "\n",
        "            # Conditional computation based on input dimensions\n",
        "            if out.shape[1] == 4:\n",
        "                out = torch.cat([\n",
        "                    torch.matmul(out[:, :2], F1),\n",
        "                    torch.matmul(out[:, 2:], F2)\n",
        "                ], dim=1)\n",
        "            else:\n",
        "                out1 = out[:, :out.shape[1] // 2]\n",
        "                out2 = out[:, out.shape[1] // 2:]\n",
        "                out = torch.cat([\n",
        "                    calculateF(out1, d_dash[out.shape[1] // 2:], F1, F2),\n",
        "                    calculateF(out2, d_dash[out.shape[1] // 2:], F1, F2)\n",
        "                ], dim=1)\n",
        "\n",
        "            # Interleave rows for final output\n",
        "            out = torch.cat([out[:, ::2], out[:, 1::2]], dim=1)\n",
        "            return out\n",
        "\n",
        "        # Call the recursive function\n",
        "        out = calculateF(output, self.d_dash1, self.F1_1, self.F1_2)\n",
        "    \n",
        "        output =  out * self.weights_D_2\n",
        "        # Add bias if applicable\n",
        "        if self.use_bias:\n",
        "            out = out + self.bias\n",
        "            \n",
        "        return out #torch.concat((out), dim=1)"
      ]
    },
    {
      "cell_type": "code",
      "execution_count": 30,
      "metadata": {},
      "outputs": [],
      "source": [
        "# Custom Layer for Diagonal Matrix\n",
        "class Layer2(nn.Module):\n",
        "    def __init__(self, input_size, output_size):\n",
        "        super(Layer2, self).__init__()\n",
        "        self.units = input_size\n",
        "        self.output_size = output_size\n",
        "        #assert input_size == output_size, \"Diagonal layers must have input_size == output_size\"\n",
        "        self.weights_D = nn.Parameter(torch.ones(output_size))  # Only store the diagonal elements\n",
        "        self.use_bias = True\n",
        "        # Initialize trainable weights\n",
        "        self.F1_1 = nn.Parameter(torch.empty(2, 2))\n",
        "        self.F1_2 = nn.Parameter(torch.empty(2, 2))\n",
        "        self.d_dash1 = nn.Parameter(torch.empty(126))\n",
        "\n",
        "        if self.use_bias:\n",
        "            self.bias = nn.Parameter(torch.empty(self.output_size))\n",
        "\n",
        "        # Initialize weights\n",
        "        nn.init.xavier_normal_(self.F1_1)\n",
        "        nn.init.xavier_normal_(self.F1_2)\n",
        "        nn.init.normal_(self.d_dash1, mean=0.0, std=0.01)\n",
        "\n",
        "        if self.use_bias:\n",
        "            nn.init.normal_(self.bias, mean=0.0, std=0.01)\n",
        "\n",
        "    def forward(self, x):\n",
        "        input1 = x[:, :self.units]\n",
        "        #Diagonal\n",
        "        \n",
        "        def calculateF(out, d_dash, F1, F2):\n",
        "            # Interleave rows for final output\n",
        "            out = torch.cat([out[:, ::2], out[:, 1::2]], dim=1)\n",
        "\n",
        "            # Conditional computation based on input dimensions\n",
        "            if out.shape[1] == 4:\n",
        "                out = torch.cat([\n",
        "                    torch.matmul(out[:, :2], F1),\n",
        "                    torch.matmul(out[:, 2:], F2)\n",
        "                ], dim=1)\n",
        "            else:\n",
        "                out1 = out[:, :out.shape[1] // 2]\n",
        "                out2 = out[:, out.shape[1] // 2:]\n",
        "                out = torch.cat([\n",
        "                    calculateF(out1, d_dash[out.shape[1] // 2:], F1, F2),\n",
        "                    calculateF(out2, d_dash[out.shape[1] // 2:], F1, F2)\n",
        "                ], dim=1)\n",
        "\n",
        "            # Perform element-wise multiplications\n",
        "            #cal1 = out[:, :out.shape[1] // 2] * d_dash[:out.shape[1] // 2]\n",
        "            cal2 = out[:, out.shape[1] // 2:] * d_dash[:out.shape[1] // 2]\n",
        "\n",
        "            # Concatenate intermediate results\n",
        "            out = torch.cat([\n",
        "                out[:, :out.shape[1] // 2] + cal2,\n",
        "                out[:, :out.shape[1] // 2] - cal2\n",
        "            ], dim=1)\n",
        "            \n",
        "            return out\n",
        "\n",
        "        # Call the recursive function\n",
        "        out1 = calculateF(input1, self.d_dash1, self.F1_1, self.F1_2)\n",
        "\n",
        "        out1 = out1[:, :self.output_size]\n",
        "\n",
        "        output1 =  out1 * self.weights_D\n",
        "\n",
        "        # Add bias if applicable\n",
        "        if self.use_bias:\n",
        "            out = output1 + self.bias\n",
        "            \n",
        "        return out #torch.concat((out), dim=1)"
      ]
    },
    {
      "cell_type": "code",
      "execution_count": 31,
      "metadata": {},
      "outputs": [
        {
          "name": "stdout",
          "output_type": "stream",
          "text": [
            "9.765625e-13\n"
          ]
        }
      ],
      "source": [
        "# Parameters\n",
        "N = 32  # Number of elements\n",
        "fc = 27e9  # Carrier frequency (27 GHz)\n",
        "f = 32e9\n",
        "c = 3e8  # Speed of light\n",
        "lamb = c / fc  # Wavelength at carrier frequency\n",
        "\n",
        "l_min = c/f   # Wavelength at max frequency\n",
        "\n",
        "dx = l_min / 2  # Inter-element spacing\n",
        "\n",
        "# Compute 16x16 DVM matrix\n",
        "tau_unit = 2 * dx / (c * N)  # Unit time delay\n",
        "print(tau_unit)"
      ]
    },
    {
      "cell_type": "code",
      "execution_count": 32,
      "metadata": {},
      "outputs": [],
      "source": [
        "import torch.autograd as autograd"
      ]
    },
    {
      "cell_type": "code",
      "execution_count": 33,
      "metadata": {},
      "outputs": [],
      "source": [
        "class AlphaLayer(nn.Module):\n",
        "    def __init__(self, input_dim, output_dim):\n",
        "        super().__init__()\n",
        "        self.input_dim = input_dim\n",
        "        self.delay_units = torch.arange(0, 64)\n",
        "        # Initialize a trainable parameter for each output neuron\n",
        "        #self.alpha_raw = nn.Parameter(torch.ones(output_dim) * 10.0)  # Start at 10 (midpoint of 0-20)\n",
        "\n",
        "    def forward(self, x):\n",
        "        # Linear transformation\n",
        "        real_part = x[:, :64]  # First 32 columns\n",
        "        imag_part = x[:, 64:]  # Last 32 columns\n",
        "\n",
        "        # Create complex matrix\n",
        "        complex_matrix = real_part + 1j * imag_part\n",
        "        \n",
        "        # Process alphas: clamp to [0, 20] and round using STE\n",
        "        #alpha_clamped = torch.clamp(self.alpha_raw, 0.0, 49.0)\n",
        "        #alpha_rounded = STEFunction.apply(alpha_clamped)\n",
        "        \n",
        "        delays = torch.exp(-1j * 2 * np.pi * fc * tau_unit*self.delay_units)\n",
        "        # Multiply each output by its corresponding alpha\n",
        "        complex_output = complex_matrix * delays  # Element-wise multiplication\n",
        "        \n",
        "        #x[:, :32] = complex_output.real\n",
        "        #x[:, 32:] = complex_output.imag\n",
        "\n",
        "        # Apply activation\n",
        "        return torch.concat((complex_output.real, complex_output.imag, x), dim=1)"
      ]
    },
    {
      "cell_type": "code",
      "execution_count": 34,
      "metadata": {},
      "outputs": [],
      "source": [
        "# Define a custom module for the skip connection\n",
        "class SkipConnection(nn.Module):\n",
        "    def __init__(self, input_dim, output_dim):\n",
        "        super().__init__()\n",
        "        self.dim = input_dim  # The layer to apply (e.g., DelayLayer)\n",
        "        self.skip_weight = nn.Parameter(torch.ones(input_dim))  # Weight for the skip connection\n",
        "\n",
        "    def forward(self, x):\n",
        "        delay_part = x[:, :128]\n",
        "        previous_x = x[:, 128:]\n",
        "        \n",
        "        # Weighted skip connection\n",
        "        return previous_x + delay_part*self.skip_weight"
      ]
    },
    {
      "cell_type": "code",
      "execution_count": 35,
      "metadata": {},
      "outputs": [
        {
          "name": "stdout",
          "output_type": "stream",
          "text": [
            "Using device: cpu\n"
          ]
        }
      ],
      "source": [
        "import torch_levenberg_marquardt as tlm\n",
        "\n",
        "# Set PyTorch to use high precision for matrix multiplication\n",
        "torch.set_float32_matmul_precision('high')\n",
        "\n",
        "# Detect CUDA device for acceleration\n",
        "#device = torch.device('cuda' if torch.cuda.is_available() else 'cpu')\n",
        "device = 'cpu'\n",
        "print(f'Using device: {device}')"
      ]
    },
    {
      "cell_type": "code",
      "execution_count": 36,
      "metadata": {},
      "outputs": [],
      "source": [
        "from torch.utils.data import TensorDataset, DataLoader, random_split"
      ]
    },
    {
      "cell_type": "code",
      "execution_count": 37,
      "metadata": {},
      "outputs": [
        {
          "name": "stdout",
          "output_type": "stream",
          "text": [
            "Input shape: torch.Size([3000, 64])\n"
          ]
        }
      ],
      "source": [
        "# Convert each array to a PyTorch tensor and concatenate them\n",
        "input_x = torch.tensor(input_signals.to_numpy(), dtype=torch.float32)\n",
        "\n",
        "# Check the shape of the resulting tensor\n",
        "print(\"Input shape:\", input_x.shape)"
      ]
    },
    {
      "cell_type": "code",
      "execution_count": 38,
      "metadata": {},
      "outputs": [
        {
          "name": "stdout",
          "output_type": "stream",
          "text": [
            "Input shape: torch.Size([3000, 64])\n"
          ]
        }
      ],
      "source": [
        "# Convert each array to a PyTorch tensor and concatenate them\n",
        "output_x = torch.tensor(output_signals.to_numpy(), dtype=torch.float32)\n",
        "\n",
        "# Check the shape of the resulting tensor\n",
        "print(\"Input shape:\", output_x.shape)"
      ]
    },
    {
      "cell_type": "code",
      "execution_count": 39,
      "metadata": {},
      "outputs": [],
      "source": [
        "# %%\n",
        "# Define a function to create the neural network model\n",
        "def create_model() -> torch.nn.Module:\n",
        "    return torch.nn.Sequential(\n",
        "        nn.Linear(64, 128),\n",
        "        torch.nn.LeakyReLU(negative_slope=0.1),\n",
        "        AlphaLayer(128, 64),\n",
        "        SkipConnection(128, 128),\n",
        "        nn.Linear(128, 64)\n",
        "    ).to(device)"
      ]
    },
    {
      "cell_type": "code",
      "execution_count": 41,
      "metadata": {},
      "outputs": [],
      "source": [
        "# %%\n",
        "# Define a function to create the neural network model\n",
        "def create_model() -> torch.nn.Module:\n",
        "    return torch.nn.Sequential(\n",
        "        Layer1(64, 128),\n",
        "        torch.nn.LeakyReLU(negative_slope=0.1),\n",
        "        AlphaLayer(128, 64),\n",
        "        SkipConnection(128, 128),\n",
        "        Layer2(128, 64),\n",
        "    ).to(device)"
      ]
    },
    {
      "cell_type": "code",
      "execution_count": 42,
      "metadata": {},
      "outputs": [],
      "source": [
        "import time\n",
        "import torch\n",
        "import torch_levenberg_marquardt as tlm\n",
        "from bokeh.plotting import figure, output_notebook, show\n",
        "from torch.utils.data import TensorDataset"
      ]
    },
    {
      "cell_type": "code",
      "execution_count": 43,
      "metadata": {},
      "outputs": [],
      "source": [
        "dataset = TensorDataset(input_x, output_x)\n",
        "\n",
        "# Split sizes: 80% training, 20% validation\n",
        "train_size = int(0.8 * len(dataset))  # 80% of 80,000\n",
        "val_size = len(dataset) - train_size  # Remaining 20%\n",
        "\n",
        "# Split the dataset\n",
        "train_dataset, val_dataset = random_split(dataset, [train_size, val_size])\n",
        "\n",
        "\n",
        "# Create dataset and dataloader\n",
        "#train_dataset = TensorDataset(input_x, output_x)\n",
        "train_loader = tlm.utils.FastDataLoader(\n",
        "    train_dataset,\n",
        "    batch_size=64,\n",
        "    repeat=10,\n",
        "    shuffle=True,\n",
        "    device=device,\n",
        ")\n",
        "\n",
        "val_loader = tlm.utils.FastDataLoader(\n",
        "    val_dataset,\n",
        "    batch_size=64,\n",
        "    repeat=10,\n",
        "    shuffle=True,\n",
        "    device=device,\n",
        ")"
      ]
    },
    {
      "cell_type": "code",
      "execution_count": 44,
      "metadata": {},
      "outputs": [
        {
          "name": "stderr",
          "output_type": "stream",
          "text": [
            "\n"
          ]
        },
        {
          "name": "stderr",
          "output_type": "stream",
          "text": [
            "                                                  \u001b[A\n",
            "Epoch 1/5: 100%|██████████| 380/380 [01:33<00:00,  4.08it/s, loss=2.5791e-03, damping=1.0000e-01, attempts=2]\n"
          ]
        },
        {
          "name": "stdout",
          "output_type": "stream",
          "text": [
            "Epoch 1 complete. Average loss: 2.8184e-01\n"
          ]
        },
        {
          "name": "stderr",
          "output_type": "stream",
          "text": [
            "                                                    \n",
            "Epoch 2/5: 100%|██████████| 380/380 [01:32<00:00,  4.10it/s, loss=7.6206e-04, damping=1.0000e-01, attempts=3]\n"
          ]
        },
        {
          "name": "stdout",
          "output_type": "stream",
          "text": [
            "Epoch 2 complete. Average loss: 1.7192e-03\n"
          ]
        },
        {
          "name": "stderr",
          "output_type": "stream",
          "text": [
            "                                                    \n",
            "Epoch 3/5: 100%|██████████| 380/380 [01:37<00:00,  3.89it/s, loss=2.8118e-04, damping=1.0000e-01, attempts=3]\n"
          ]
        },
        {
          "name": "stdout",
          "output_type": "stream",
          "text": [
            "Epoch 3 complete. Average loss: 4.7153e-04\n"
          ]
        },
        {
          "name": "stderr",
          "output_type": "stream",
          "text": [
            "                                                    \n",
            "Epoch 4/5: 100%|██████████| 380/380 [01:41<00:00,  3.73it/s, loss=1.0163e-04, damping=1.0000e-01, attempts=3]\n"
          ]
        },
        {
          "name": "stdout",
          "output_type": "stream",
          "text": [
            "Epoch 4 complete. Average loss: 1.8664e-04\n"
          ]
        },
        {
          "name": "stderr",
          "output_type": "stream",
          "text": [
            "                                                    \n",
            "Epoch 5/5: 100%|██████████| 380/380 [01:44<00:00,  3.64it/s, loss=4.1813e-05, damping=1.0000e-02, attempts=1]\n"
          ]
        },
        {
          "name": "stdout",
          "output_type": "stream",
          "text": [
            "Epoch 5 complete. Average loss: 7.4074e-05\n"
          ]
        }
      ],
      "source": [
        "# # Example usage\n",
        "# if __name__ == \"__main__\":\n",
        "    # Simulated data for demonstration (replace with your actual data)\n",
        "    #data = x_t  # Random data: 50,001 samples of (x, y, z)\n",
        "\n",
        "    # Prepare dataset and dataloader\n",
        "    #dataloader = prepare_data(input_x, output_x)\n",
        "\n",
        "model = create_model()\n",
        "\n",
        "module_lm = tlm.training.LevenbergMarquardtModule(\n",
        "model=model,\n",
        "loss_fn=tlm.loss.MSELoss(),\n",
        "learning_rate=1.0,\n",
        "attempts_per_step=20,\n",
        "solve_method='qr',\n",
        ")\n",
        "\n",
        "loss_all, val_loss_all = tlm.utils.fit(\n",
        "module_lm,\n",
        "train_loader,\n",
        "epochs=5,\n",
        "overwrite_progress_bar = False,\n",
        "val_loader=val_loader,\n",
        ")"
      ]
    },
    {
      "cell_type": "code",
      "execution_count": 66,
      "metadata": {},
      "outputs": [],
      "source": [
        "# # Plot the loss curve\n",
        "# loss_all_cpu = [loss_item.cpu().numpy() for loss_item in loss_all]\n",
        "# plt.figure(figsize=(8, 6))\n",
        "# plt.plot(range(1, len(loss_all_cpu) + 1), loss_all_cpu, linestyle=\"-\", color=\"b\")\n",
        "# plt.title(\"Training Loss Curve\")\n",
        "# plt.xlabel(\"Steps\")\n",
        "# plt.ylabel(\"Loss\")\n",
        "# plt.yscale(\"log\")\n",
        "# plt.grid(True)\n",
        "# plt.show()"
      ]
    },
    {
      "cell_type": "code",
      "execution_count": 65,
      "metadata": {},
      "outputs": [],
      "source": [
        "# # Plot the loss curve\n",
        "# loss_all_cpu = [loss_item for loss_item in val_loss_all]\n",
        "# plt.figure(figsize=(8, 6))\n",
        "# plt.plot(range(1, len(loss_all_cpu) + 1), loss_all_cpu, linestyle=\"-\", color=\"b\")\n",
        "# plt.title(\"Training Loss Curve\")\n",
        "# plt.xlabel(\"Steps\")\n",
        "# plt.ylabel(\"Loss\")\n",
        "# plt.yscale(\"log\")\n",
        "# plt.grid(True)\n",
        "# plt.show()"
      ]
    },
    {
      "cell_type": "code",
      "execution_count": 60,
      "metadata": {},
      "outputs": [
        {
          "data": {
            "image/png": "[encoded data removed]",
            "text/plain": [
              "<Figure size 800x600 with 1 Axes>"
            ]
          },
          "metadata": {},
          "output_type": "display_data"
        }
      ],
      "source": [
        "# Assuming loss_all is a list of loss values\n",
        "loss_all_cpu = [loss_item.cpu().numpy() for loss_item in loss_all]\n",
        "\n",
        "# Create a DataFrame to store the steps and loss values\n",
        "data = {\n",
        "    \"Steps\": range(1, len(loss_all_cpu) + 1),  # x-axis values\n",
        "    \"Loss\": loss_all_cpu  # y-axis values\n",
        "}\n",
        "df = pd.DataFrame(data)\n",
        "\n",
        "# Save the DataFrame to a CSV file\n",
        "df.to_csv(\"training_24_loss_N_8.csv\", index=False)\n",
        "\n",
        "# Plot the loss curve\n",
        "plt.figure(figsize=(8, 6))\n",
        "plt.plot(df[\"Steps\"], df[\"Loss\"], linestyle=\"-\", color=\"b\")\n",
        "plt.title(\"Training Loss Curve\")\n",
        "plt.xlabel(\"Steps\")\n",
        "plt.ylabel(\"Loss\")\n",
        "plt.yscale(\"log\")\n",
        "plt.grid(True)\n",
        "plt.show()"
      ]
    },
    {
      "cell_type": "code",
      "execution_count": 61,
      "metadata": {},
      "outputs": [
        {
          "data": {
            "image/png": "[encoded data removed]",
            "text/plain": [
              "<Figure size 800x600 with 1 Axes>"
            ]
          },
          "metadata": {},
          "output_type": "display_data"
        }
      ],
      "source": [
        "# Assuming loss_all is a list of loss values\n",
        "loss_all_cpu = [loss_item for loss_item in val_loss_all]\n",
        "\n",
        "# Create a DataFrame to store the steps and loss values\n",
        "data = {\n",
        "    \"Steps\": range(1, len(loss_all_cpu) + 1),  # x-axis values\n",
        "    \"Loss\": loss_all_cpu  # y-axis values\n",
        "}\n",
        "df = pd.DataFrame(data)\n",
        "\n",
        "# Save the DataFrame to a CSV file\n",
        "df.to_csv(\"validation_24_loss_N_8.csv\", index=False)\n",
        "\n",
        "# Plot the loss curve\n",
        "plt.figure(figsize=(8, 6))\n",
        "plt.plot(df[\"Steps\"], df[\"Loss\"], linestyle=\"-\", color=\"b\")\n",
        "plt.title(\"Training Loss Curve\")\n",
        "plt.xlabel(\"Steps\")\n",
        "plt.ylabel(\"Loss\")\n",
        "plt.yscale(\"log\")\n",
        "plt.grid(True)\n",
        "plt.show()"
      ]
    },
    {
      "cell_type": "code",
      "execution_count": 63,
      "metadata": {},
      "outputs": [
        {
          "data": {
            "text/html": [
              "<div>\n",
              "<style scoped>\n",
              "    .dataframe tbody tr th:only-of-type {\n",
              "        vertical-align: middle;\n",
              "    }\n",
              "\n",
              "    .dataframe tbody tr th {\n",
              "        vertical-align: top;\n",
              "    }\n",
              "\n",
              "    .dataframe thead th {\n",
              "        text-align: right;\n",
              "    }\n",
              "</style>\n",
              "<table border=\"1\" class=\"dataframe\">\n",
              "  <thead>\n",
              "    <tr style=\"text-align: right;\">\n",
              "      <th></th>\n",
              "      <th>Steps</th>\n",
              "      <th>Loss</th>\n",
              "    </tr>\n",
              "  </thead>\n",
              "  <tbody>\n",
              "    <tr>\n",
              "      <th>0</th>\n",
              "      <td>1</td>\n",
              "      <td>5.1</td>\n",
              "    </tr>\n",
              "    <tr>\n",
              "      <th>1</th>\n",
              "      <td>2</td>\n",
              "      <td>4.7</td>\n",
              "    </tr>\n",
              "    <tr>\n",
              "      <th>2</th>\n",
              "      <td>3</td>\n",
              "      <td>4.3</td>\n",
              "    </tr>\n",
              "    <tr>\n",
              "      <th>3</th>\n",
              "      <td>4</td>\n",
              "      <td>4.3</td>\n",
              "    </tr>\n",
              "    <tr>\n",
              "      <th>4</th>\n",
              "      <td>5</td>\n",
              "      <td>2.5</td>\n",
              "    </tr>\n",
              "    <tr>\n",
              "      <th>...</th>\n",
              "      <td>...</td>\n",
              "      <td>...</td>\n",
              "    </tr>\n",
              "    <tr>\n",
              "      <th>988</th>\n",
              "      <td>989</td>\n",
              "      <td>0.0</td>\n",
              "    </tr>\n",
              "    <tr>\n",
              "      <th>989</th>\n",
              "      <td>990</td>\n",
              "      <td>0.0</td>\n",
              "    </tr>\n",
              "    <tr>\n",
              "      <th>990</th>\n",
              "      <td>991</td>\n",
              "      <td>0.0</td>\n",
              "    </tr>\n",
              "    <tr>\n",
              "      <th>991</th>\n",
              "      <td>992</td>\n",
              "      <td>0.0</td>\n",
              "    </tr>\n",
              "    <tr>\n",
              "      <th>992</th>\n",
              "      <td>993</td>\n",
              "      <td>0.0</td>\n",
              "    </tr>\n",
              "  </tbody>\n",
              "</table>\n",
              "<p>993 rows × 2 columns</p>\n",
              "</div>"
            ],
            "text/plain": [
              "     Steps  Loss\n",
              "0        1   5.1\n",
              "1        2   4.7\n",
              "2        3   4.3\n",
              "3        4   4.3\n",
              "4        5   2.5\n",
              "..     ...   ...\n",
              "988    989   0.0\n",
              "989    990   0.0\n",
              "990    991   0.0\n",
              "991    992   0.0\n",
              "992    993   0.0\n",
              "\n",
              "[993 rows x 2 columns]"
            ]
          },
          "execution_count": 63,
          "metadata": {},
          "output_type": "execute_result"
        }
      ],
      "source": [
        "df"
      ]
    },
    {
      "cell_type": "code",
      "execution_count": 20,
      "metadata": {},
      "outputs": [
        {
          "name": "stdout",
          "output_type": "stream",
          "text": [
            "Layer: 0.weight | Parameters: 8192\n",
            "Layer: 0.bias | Parameters: 128\n",
            "Layer: 3.skip_weight | Parameters: 128\n",
            "Layer: 4.weight | Parameters: 8192\n",
            "Layer: 4.bias | Parameters: 64\n",
            "\n",
            "Total trainable parameters in the model: 16704\n"
          ]
        }
      ],
      "source": [
        "# Print total number of weights by layer\n",
        "total_params = 0\n",
        "for name, param in model.named_parameters():\n",
        "    if param.requires_grad:  # Only count trainable parameters\n",
        "        num_params = param.numel()  # Number of elements in the parameter tensor\n",
        "        print(f\"Layer: {name} | Parameters: {num_params}\")\n",
        "        total_params += num_params\n",
        "\n",
        "# Print total number of parameters in the model\n",
        "print(f\"\\nTotal trainable parameters in the model: {total_params}\")"
      ]
    },
    {
      "cell_type": "code",
      "execution_count": 21,
      "metadata": {},
      "outputs": [
        {
          "name": "stdout",
          "output_type": "stream",
          "text": [
            "Python 3.10.16\n"
          ]
        }
      ],
      "source": [
        "!python --version"
      ]
    },
    {
      "cell_type": "code",
      "execution_count": null,
      "metadata": {},
      "outputs": [],
      "source": []
    }
  ],
  "metadata": {
    "colab": {
      "provenance": []
    },
    "kernelspec": {
      "display_name": "pytorch_gpu_env",
      "language": "python",
      "name": "python3"
    },
    "language_info": {
      "codemirror_mode": {
        "name": "ipython",
        "version": 3
      },
      "file_extension": ".py",
      "mimetype": "text/x-python",
      "name": "python",
      "nbconvert_exporter": "python",
      "pygments_lexer": "ipython3",
      "version": "3.10.16"
    }
  },
  "nbformat": 4,
  "nbformat_minor": 0
}
